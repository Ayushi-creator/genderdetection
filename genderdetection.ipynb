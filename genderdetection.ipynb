{
  "nbformat": 4,
  "nbformat_minor": 0,
  "metadata": {
    "colab": {
      "provenance": []
    },
    "kernelspec": {
      "name": "python3",
      "display_name": "Python 3"
    },
    "language_info": {
      "name": "python"
    }
  },
  "cells": [
    {
      "cell_type": "code",
      "execution_count": 2,
      "metadata": {
        "id": "ya_TlY5hIQrp"
      },
      "outputs": [],
      "source": [
        "\n",
        "\n",
        "import matplotlib.pyplot as plt\n",
        "\n",
        "\n",
        "from sklearn.datasets import fetch_lfw_people\n",
        "\n",
        "from sklearn.model_selection import RandomizedSearchCV, train_test_split\n",
        "from sklearn.preprocessing import StandardScaler\n"
      ]
    },
    {
      "cell_type": "code",
      "source": [
        "lfw_people = fetch_lfw_people(min_faces_per_person=70, resize=0.4)\n",
        "\n",
        "n_samples, h, w = lfw_people.images.shape\n",
        "\n",
        "\n",
        "X = lfw_people.data\n",
        "n_features = X.shape[1]\n",
        "\n",
        "\n",
        "y = lfw_people.target\n",
        "target_names = lfw_people.target_names\n",
        "n_classes = target_names.shape[0]\n",
        "\n",
        "print(\"Total dataset size:\")\n",
        "print(\"n_samples: %d\" % n_samples)\n",
        "print(\"n_features: %d\" % n_features)\n",
        "print(\"n_classes: %d\" % n_classes)"
      ],
      "metadata": {
        "colab": {
          "base_uri": "https://localhost:8080/"
        },
        "id": "JcVDthWhIZAR",
        "outputId": "6d1d42a5-9eab-46f8-8b1c-88dcf5eea44e"
      },
      "execution_count": 3,
      "outputs": [
        {
          "output_type": "stream",
          "name": "stdout",
          "text": [
            "Total dataset size:\n",
            "n_samples: 1288\n",
            "n_features: 1850\n",
            "n_classes: 7\n"
          ]
        }
      ]
    },
    {
      "cell_type": "code",
      "source": [
        "for i in range(5):  # Print 5 samples\n",
        "    print(\"Sample\", i+1)\n",
        "    print(\"Image:\", lfw_people.images[i])\n",
        "    print(\"Target:\", lfw_people.target[i], \"(Person:\", target_names[lfw_people.target[i]], \")\")\n",
        "    print()"
      ],
      "metadata": {
        "colab": {
          "base_uri": "https://localhost:8080/"
        },
        "id": "ahyfURUZJKgG",
        "outputId": "2b2a822e-4bd9-43db-e687-424ae176a567"
      },
      "execution_count": 4,
      "outputs": [
        {
          "output_type": "stream",
          "name": "stdout",
          "text": [
            "Sample 1\n",
            "Image: [[0.9973857  0.99607843 0.9921568  ... 0.29803923 0.24836601 0.20653595]\n",
            " [0.9973857  0.9921569  0.9908497  ... 0.30588236 0.2535948  0.21568628]\n",
            " [0.96078426 0.93071896 0.8679738  ... 0.2875817  0.24183007 0.21568628]\n",
            " ...\n",
            " [0.34509805 0.26143792 0.17385621 ... 0.4248366  0.40261438 0.39084968]\n",
            " [0.30980393 0.23398693 0.17124183 ... 0.39869282 0.4013072  0.3764706 ]\n",
            " [0.28366014 0.2248366  0.18039216 ... 0.38169935 0.38823533 0.3803922 ]]\n",
            "Target: 5 (Person: Hugo Chavez )\n",
            "\n",
            "Sample 2\n",
            "Image: [[0.14771242 0.19738562 0.1751634  ... 0.24183007 0.2        0.14509805]\n",
            " [0.18039216 0.24836601 0.24575163 ... 0.21437909 0.21960784 0.1751634 ]\n",
            " [0.21045752 0.303268   0.33594772 ... 0.2653595  0.18431373 0.16993465]\n",
            " ...\n",
            " [0.2875817  0.29803923 0.29673204 ... 0.503268   0.46797386 0.4535948 ]\n",
            " [0.29411766 0.29803923 0.303268   ... 0.4928105  0.4496732  0.45359477]\n",
            " [0.30457518 0.29673204 0.29673204 ... 0.45751634 0.44444445 0.53594774]]\n",
            "Target: 6 (Person: Tony Blair )\n",
            "\n",
            "Sample 3\n",
            "Image: [[0.34379086 0.39477125 0.49150327 ... 0.5803922  0.58954257 0.58300656]\n",
            " [0.38169935 0.5071896  0.57124186 ... 0.6261439  0.5908497  0.5751634 ]\n",
            " [0.48366013 0.5686275  0.579085   ... 0.64183015 0.59738564 0.5751634 ]\n",
            " ...\n",
            " [0.29673204 0.2875817  0.28496733 ... 0.46013072 0.6732027  0.70326805]\n",
            " [0.28627452 0.26666668 0.27058825 ... 0.5908497  0.7267974  0.7098039 ]\n",
            " [0.3150327  0.25490198 0.26013073 ... 0.709804   0.72156864 0.7163399 ]]\n",
            "Target: 3 (Person: George W Bush )\n",
            "\n",
            "Sample 4\n",
            "Image: [[0.04705882 0.01699346 0.02352941 ... 0.02745098 0.02352941 0.02222222]\n",
            " [0.2771242  0.13202615 0.03529412 ... 0.02745098 0.02222222 0.02222222]\n",
            " [0.50849676 0.3882353  0.21960784 ... 0.03006536 0.02091503 0.01437909]\n",
            " ...\n",
            " [0.43529412 0.39607844 0.3267974  ... 0.1006536  0.19215687 0.25490198]\n",
            " [0.33333334 0.3019608  0.27189544 ... 0.07189543 0.16078432 0.21960784]\n",
            " [0.26666668 0.23660131 0.22352941 ... 0.06535948 0.14248367 0.20130719]]\n",
            "Target: 1 (Person: Colin Powell )\n",
            "\n",
            "Sample 5\n",
            "Image: [[0.47189546 0.45882353 0.4862745  ... 0.2627451  0.23398693 0.22091503]\n",
            " [0.46535948 0.44444445 0.48235294 ... 0.275817   0.24313726 0.22091503]\n",
            " [0.4640523  0.44575167 0.4771242  ... 0.29803923 0.25490198 0.22222222]\n",
            " ...\n",
            " [0.07320262 0.06013072 0.06143791 ... 0.03529412 0.0627451  0.1124183 ]\n",
            " [0.07973856 0.07712419 0.0496732  ... 0.05882353 0.18562092 0.20915033]\n",
            " [0.07843138 0.08104575 0.07843138 ... 0.07843138 0.2509804  0.2784314 ]]\n",
            "Target: 0 (Person: Ariel Sharon )\n",
            "\n"
          ]
        }
      ]
    },
    {
      "cell_type": "code",
      "source": [
        "import numpy as np\n",
        "\n",
        "\n",
        "class_distribution = np.bincount(y)\n",
        "class_labels = [target_names[i] for i in range(n_classes)]\n",
        "\n",
        "pixel_mean = np.mean(X, axis=0)\n",
        "pixel_std = np.std(X, axis=0)\n",
        "\n",
        "\n",
        "print(\"\\nClass Distribution:\")\n",
        "print(\"===================\")\n",
        "for label, count in zip(class_labels, class_distribution):\n",
        "    print(f\"Class: {label}, Count: {count}\")\n",
        "\n",
        "\n",
        "print(\"\\nPixel Value Statistics:\")\n",
        "print(\"========================\")\n",
        "print(\"Mean Pixel Value:\")\n",
        "print(pixel_mean)\n",
        "print(\"\\nStandard Deviation of Pixel Value:\")\n",
        "print(pixel_std)\n"
      ],
      "metadata": {
        "colab": {
          "base_uri": "https://localhost:8080/"
        },
        "id": "hZ6negofJR_C",
        "outputId": "9fde15a3-7cf9-498b-8889-548745bb2acc"
      },
      "execution_count": 5,
      "outputs": [
        {
          "output_type": "stream",
          "name": "stdout",
          "text": [
            "\n",
            "Class Distribution:\n",
            "===================\n",
            "Class: Ariel Sharon, Count: 77\n",
            "Class: Colin Powell, Count: 236\n",
            "Class: Donald Rumsfeld, Count: 121\n",
            "Class: George W Bush, Count: 530\n",
            "Class: Gerhard Schroeder, Count: 109\n",
            "Class: Hugo Chavez, Count: 71\n",
            "Class: Tony Blair, Count: 144\n",
            "\n",
            "Pixel Value Statistics:\n",
            "========================\n",
            "Mean Pixel Value:\n",
            "[0.3557689  0.3746254  0.41296542 ... 0.4654134  0.43685618 0.40432248]\n",
            "\n",
            "Standard Deviation of Pixel Value:\n",
            "[0.18006772 0.17449939 0.1691379  ... 0.30331162 0.3022159  0.30313924]\n"
          ]
        }
      ]
    },
    {
      "cell_type": "code",
      "source": [
        "X_train, X_test, y_train, y_test = train_test_split(X, y, test_size=0.2, random_state=42)\n",
        "\n",
        "# Preprocessing the features (pixel values)\n",
        "scaler = StandardScaler()\n",
        "X_train = scaler.fit_transform(X_train)\n",
        "X_test = scaler.transform(X_test)"
      ],
      "metadata": {
        "id": "qZYj-OiqKrkN"
      },
      "execution_count": 8,
      "outputs": []
    },
    {
      "source": [
        "!pip install scikit-learn\n",
        "import sklearn\n",
        "\n",
        "label_encoder = sklearn.preprocessing.LabelEncoder()\n",
        "y_train = label_encoder.fit_transform(y_train)\n",
        "y_test = label_encoder.transform(y_test)"
      ],
      "cell_type": "code",
      "metadata": {
        "colab": {
          "base_uri": "https://localhost:8080/"
        },
        "id": "RGzqd3WuLEN2",
        "outputId": "11303e85-cac4-47a3-b6f2-0052acdc8660"
      },
      "execution_count": 9,
      "outputs": [
        {
          "output_type": "stream",
          "name": "stdout",
          "text": [
            "Requirement already satisfied: scikit-learn in /usr/local/lib/python3.10/dist-packages (1.2.2)\n",
            "Requirement already satisfied: numpy>=1.17.3 in /usr/local/lib/python3.10/dist-packages (from scikit-learn) (1.25.2)\n",
            "Requirement already satisfied: scipy>=1.3.2 in /usr/local/lib/python3.10/dist-packages (from scikit-learn) (1.11.4)\n",
            "Requirement already satisfied: joblib>=1.1.1 in /usr/local/lib/python3.10/dist-packages (from scikit-learn) (1.4.0)\n",
            "Requirement already satisfied: threadpoolctl>=2.0.0 in /usr/local/lib/python3.10/dist-packages (from scikit-learn) (3.4.0)\n"
          ]
        }
      ]
    },
    {
      "cell_type": "code",
      "source": [
        "y_train = to_categorical(y_train, num_classes=n_classes)\n",
        "y_test = to_categorical(y_test, num_classes=n_classes)"
      ],
      "metadata": {
        "id": "dgozpw0wLJo-"
      },
      "execution_count": 13,
      "outputs": []
    },
    {
      "source": [
        "!pip install keras"
      ],
      "cell_type": "code",
      "metadata": {
        "colab": {
          "base_uri": "https://localhost:8080/"
        },
        "id": "1-eOjquYLdCo",
        "outputId": "1fa548eb-7e80-4664-c287-fbe5883ccba2"
      },
      "execution_count": 11,
      "outputs": [
        {
          "output_type": "stream",
          "name": "stdout",
          "text": [
            "Requirement already satisfied: keras in /usr/local/lib/python3.10/dist-packages (2.15.0)\n"
          ]
        }
      ]
    },
    {
      "source": [
        "from keras.utils import to_categorical"
      ],
      "cell_type": "code",
      "metadata": {
        "id": "x8cq_O-PLds1"
      },
      "execution_count": 12,
      "outputs": []
    },
    {
      "cell_type": "code",
      "source": [
        "from tensorflow import keras"
      ],
      "metadata": {
        "id": "mpqzh65xL2vg"
      },
      "execution_count": 15,
      "outputs": []
    },
    {
      "source": [
        "from keras import layers\n",
        "model = keras.Sequential([\n",
        "    layers.Dense(512, activation='relu', input_shape=(n_features,)),\n",
        "    layers.Dropout(0.5),\n",
        "    layers.Dense(n_classes, activation='softmax')\n",
        "])"
      ],
      "cell_type": "code",
      "metadata": {
        "id": "XVc6rwhxL5Ub"
      },
      "execution_count": 17,
      "outputs": []
    },
    {
      "cell_type": "code",
      "source": [
        "print(layers)"
      ],
      "metadata": {
        "colab": {
          "base_uri": "https://localhost:8080/"
        },
        "id": "2siHzCtCMFK9",
        "outputId": "075f015b-bed1-4a0e-ddc2-8abb3a9c3aad"
      },
      "execution_count": 18,
      "outputs": [
        {
          "output_type": "stream",
          "name": "stdout",
          "text": [
            "<module 'keras.layers' from '/usr/local/lib/python3.10/dist-packages/keras/layers/__init__.py'>\n"
          ]
        }
      ]
    },
    {
      "cell_type": "code",
      "source": [
        "model.compile(optimizer='adam',\n",
        "              loss='categorical_crossentropy',\n",
        "              metrics=['accuracy'])"
      ],
      "metadata": {
        "id": "PnR1yIkhMNlw"
      },
      "execution_count": 19,
      "outputs": []
    },
    {
      "cell_type": "code",
      "source": [
        "model.fit(X_train, y_train, epochs=20, batch_size=32, validation_split=0.2)"
      ],
      "metadata": {
        "colab": {
          "base_uri": "https://localhost:8080/"
        },
        "id": "J-0WfH5sMbmo",
        "outputId": "ebd5bab3-a502-42c7-e083-b7c98ed227cb"
      },
      "execution_count": 20,
      "outputs": [
        {
          "output_type": "stream",
          "name": "stdout",
          "text": [
            "Epoch 1/20\n",
            "26/26 [==============================] - 2s 34ms/step - loss: 2.2503 - accuracy: 0.4660 - val_loss: 1.4943 - val_accuracy: 0.6408\n",
            "Epoch 2/20\n",
            "26/26 [==============================] - 1s 22ms/step - loss: 1.0841 - accuracy: 0.7451 - val_loss: 1.5651 - val_accuracy: 0.7087\n",
            "Epoch 3/20\n",
            "26/26 [==============================] - 1s 23ms/step - loss: 0.9620 - accuracy: 0.7961 - val_loss: 1.3870 - val_accuracy: 0.6990\n",
            "Epoch 4/20\n",
            "26/26 [==============================] - 1s 22ms/step - loss: 0.6756 - accuracy: 0.8398 - val_loss: 1.3190 - val_accuracy: 0.6990\n",
            "Epoch 5/20\n",
            "26/26 [==============================] - 0s 16ms/step - loss: 0.5305 - accuracy: 0.8665 - val_loss: 1.2242 - val_accuracy: 0.7330\n",
            "Epoch 6/20\n",
            "26/26 [==============================] - 0s 14ms/step - loss: 0.4069 - accuracy: 0.8871 - val_loss: 1.3194 - val_accuracy: 0.7476\n",
            "Epoch 7/20\n",
            "26/26 [==============================] - 0s 16ms/step - loss: 0.3584 - accuracy: 0.9114 - val_loss: 1.5166 - val_accuracy: 0.7427\n",
            "Epoch 8/20\n",
            "26/26 [==============================] - 0s 15ms/step - loss: 0.3738 - accuracy: 0.9150 - val_loss: 1.5201 - val_accuracy: 0.7136\n",
            "Epoch 9/20\n",
            "26/26 [==============================] - 0s 15ms/step - loss: 0.3302 - accuracy: 0.9175 - val_loss: 1.1699 - val_accuracy: 0.7767\n",
            "Epoch 10/20\n",
            "26/26 [==============================] - 0s 14ms/step - loss: 0.2997 - accuracy: 0.9199 - val_loss: 1.3713 - val_accuracy: 0.7524\n",
            "Epoch 11/20\n",
            "26/26 [==============================] - 0s 14ms/step - loss: 0.2609 - accuracy: 0.9211 - val_loss: 1.5639 - val_accuracy: 0.7621\n",
            "Epoch 12/20\n",
            "26/26 [==============================] - 0s 17ms/step - loss: 0.2675 - accuracy: 0.9381 - val_loss: 1.7788 - val_accuracy: 0.7767\n",
            "Epoch 13/20\n",
            "26/26 [==============================] - 0s 15ms/step - loss: 0.2461 - accuracy: 0.9405 - val_loss: 1.6098 - val_accuracy: 0.7476\n",
            "Epoch 14/20\n",
            "26/26 [==============================] - 0s 16ms/step - loss: 0.2434 - accuracy: 0.9296 - val_loss: 1.4395 - val_accuracy: 0.7670\n",
            "Epoch 15/20\n",
            "26/26 [==============================] - 0s 15ms/step - loss: 0.2993 - accuracy: 0.9393 - val_loss: 1.6809 - val_accuracy: 0.7427\n",
            "Epoch 16/20\n",
            "26/26 [==============================] - 0s 14ms/step - loss: 0.2687 - accuracy: 0.9296 - val_loss: 1.8792 - val_accuracy: 0.7379\n",
            "Epoch 17/20\n",
            "26/26 [==============================] - 0s 15ms/step - loss: 0.2294 - accuracy: 0.9417 - val_loss: 1.3208 - val_accuracy: 0.7816\n",
            "Epoch 18/20\n",
            "26/26 [==============================] - 0s 16ms/step - loss: 0.2033 - accuracy: 0.9551 - val_loss: 1.5471 - val_accuracy: 0.7913\n",
            "Epoch 19/20\n",
            "26/26 [==============================] - 0s 15ms/step - loss: 0.1349 - accuracy: 0.9587 - val_loss: 1.7515 - val_accuracy: 0.7621\n",
            "Epoch 20/20\n",
            "26/26 [==============================] - 0s 14ms/step - loss: 0.1412 - accuracy: 0.9648 - val_loss: 1.4510 - val_accuracy: 0.7670\n"
          ]
        },
        {
          "output_type": "execute_result",
          "data": {
            "text/plain": [
              "<keras.src.callbacks.History at 0x7c25e0675810>"
            ]
          },
          "metadata": {},
          "execution_count": 20
        }
      ]
    },
    {
      "cell_type": "code",
      "source": [
        "test_loss, test_acc = model.evaluate(X_test, y_test)\n",
        "print('Test accuracy:', test_acc)"
      ],
      "metadata": {
        "colab": {
          "base_uri": "https://localhost:8080/"
        },
        "id": "F3wG__HsMmmj",
        "outputId": "2b9b1de9-a842-4178-b6fd-6b10d76fbe9d"
      },
      "execution_count": 21,
      "outputs": [
        {
          "output_type": "stream",
          "name": "stdout",
          "text": [
            "9/9 [==============================] - 0s 4ms/step - loss: 1.2522 - accuracy: 0.8256\n",
            "Test accuracy: 0.8255813717842102\n"
          ]
        }
      ]
    },
    {
      "cell_type": "code",
      "source": [
        "from sklearn.metrics import precision_score, recall_score, f1_score\n",
        "\n",
        "# Step 4 (continued): Model Evaluation\n",
        "test_loss, test_acc = model.evaluate(X_test, y_test)\n",
        "print('Test accuracy:', test_acc)\n",
        "\n",
        "# Additional evaluation metrics\n",
        "y_pred = model.predict(X_test)\n",
        "y_pred_classes = np.argmax(y_pred, axis=1)\n",
        "y_true = np.argmax(y_test, axis=1)\n",
        "\n",
        "precision = precision_score(y_true, y_pred_classes, average='weighted')\n",
        "recall = recall_score(y_true, y_pred_classes, average='weighted')\n",
        "f1 = f1_score(y_true, y_pred_classes, average='weighted')\n",
        "\n",
        "print('Precision:', precision)\n",
        "print('Recall:', recall)\n",
        "print('F1-score:', f1)"
      ],
      "metadata": {
        "colab": {
          "base_uri": "https://localhost:8080/"
        },
        "id": "pc8_QaaWNTWO",
        "outputId": "b775e401-7ee9-4d56-ec79-f96b9f642451"
      },
      "execution_count": 25,
      "outputs": [
        {
          "output_type": "stream",
          "name": "stdout",
          "text": [
            "9/9 [==============================] - 0s 11ms/step - loss: 1.2522 - accuracy: 0.8256\n",
            "Test accuracy: 0.8255813717842102\n",
            "9/9 [==============================] - 0s 11ms/step\n",
            "Precision: 0.8340098759025907\n",
            "Recall: 0.8255813953488372\n",
            "F1-score: 0.8232699616378913\n"
          ]
        }
      ]
    },
    {
      "cell_type": "code",
      "source": [
        "import tensorflow as tf"
      ],
      "metadata": {
        "id": "R3KICBQ5M-B0"
      },
      "execution_count": 23,
      "outputs": []
    },
    {
      "cell_type": "code",
      "source": [
        "model_path = \"gender_detection_model\"\n",
        "tf.saved_model.save(model, model_path)"
      ],
      "metadata": {
        "id": "Rc855IWgM_kx"
      },
      "execution_count": 24,
      "outputs": []
    }
  ]
}